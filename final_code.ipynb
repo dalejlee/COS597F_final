{
 "cells": [
  {
   "cell_type": "code",
   "execution_count": 3,
   "metadata": {},
   "outputs": [],
   "source": [
    "from cassiopeia.TreeSolver import utilities\n",
    "\n",
    "import pandas as pd \n",
    "import numpy as np\n",
    "import networkx as nx\n",
    "import pickle as pic\n",
    "\n",
    "import sys"
   ]
  },
  {
   "cell_type": "markdown",
   "metadata": {},
   "source": [
    "### Preprocess\n",
    "\n",
    "https://github.com/YosefLab/Cassiopeia/blob/master/notebooks/reconstruct_lineages.ipynb"
   ]
  },
  {
   "cell_type": "code",
   "execution_count": 5,
   "metadata": {},
   "outputs": [],
   "source": [
    "alleletable_fp = \"GSE146712_IVLT-2B_ALL.alleleTable.txt\"\n",
    "target_lg = 4\n",
    "alleletable = pd.read_csv(alleletable_fp, sep='\\t')\n"
   ]
  },
  {
   "cell_type": "code",
   "execution_count": 6,
   "metadata": {},
   "outputs": [
    {
     "name": "stderr",
     "output_type": "stream",
     "text": [
      "Counting unique alleles: 100%|██████████| 117/117 [00:00<00:00, 1328.79it/s]\n"
     ]
    }
   ],
   "source": [
    "allele_props = utilities.get_indel_props(alleletable, group_var=['intBC', 'lineageGrp'])"
   ]
  },
  {
   "cell_type": "code",
   "execution_count": 7,
   "metadata": {},
   "outputs": [
    {
     "name": "stderr",
     "output_type": "stream",
     "text": [
      "Processing characters:  56%|█████▌    | 15/27 [00:00<00:00, 140.53it/s]"
     ]
    },
    {
     "name": "stdout",
     "output_type": "stream",
     "text": [
      "Dropping the following intBCs due to lack of diversity with threshold 1.0: []\n"
     ]
    },
    {
     "name": "stderr",
     "output_type": "stream",
     "text": [
      "Processing characters: 100%|██████████| 27/27 [00:00<00:00, 116.43it/s]\n"
     ]
    }
   ],
   "source": [
    "lg = alleletable[alleletable[\"lineageGrp\"] == target_lg]\n",
    "cm_fp = \"lg4_character_matrix.txt\" # relative file path to the cm\n",
    "\n",
    "utilities.alleletable_to_character_matrix(lg, cm_fp, mutation_map=allele_props, write=True)\n"
   ]
  },
  {
   "cell_type": "markdown",
   "metadata": {},
   "source": [
    "### Run reconstruct-lineage Command\n",
    "reconstruct-lineage --greedy --verbose lg4_character_matrix.txt output.pkl"
   ]
  },
  {
   "cell_type": "markdown",
   "metadata": {},
   "source": [
    "### Post-Process"
   ]
  },
  {
   "cell_type": "code",
   "execution_count": 8,
   "metadata": {},
   "outputs": [],
   "source": [
    "g = nx.read_gpickle(\"output.pkl\")\n",
    "cm = pd.read_csv(\"lg4_character_matrix.txt\", sep='\\t', index_col = 0) # read in the associated character matrix"
   ]
  },
  {
   "cell_type": "code",
   "execution_count": 9,
   "metadata": {},
   "outputs": [],
   "source": [
    "g = g.post_process(cm = cm) # Cassiopeia-Tree's have built in functionality to post-process, callable as a method on the object \n",
    "# create a newick string for the given post-processed tree. Note that you need to pass in the \n",
    "# networkx object for this\n",
    "\n",
    "g.newick = utilities.convert_network_to_newick_format(g.network) "
   ]
  },
  {
   "cell_type": "code",
   "execution_count": 13,
   "metadata": {},
   "outputs": [],
   "source": [
    "\n",
    "with open('test.nwk', 'w') as f:\n",
    "    f.write(g.newick)"
   ]
  },
  {
   "cell_type": "code",
   "execution_count": 14,
   "metadata": {},
   "outputs": [],
   "source": [
    "## now save final tree\n",
    "out_fp = \"test_lg4_tree.processed.pkl\"\n",
    "\n",
    "# pic.dump(g, open(out_fp, 'wb'))\n",
    "\n",
    "with open('test_lg4_tree.processed.nwk', 'w') as f:\n",
    "    f.write(out_fp)"
   ]
  },
  {
   "cell_type": "code",
   "execution_count": null,
   "metadata": {},
   "outputs": [],
   "source": []
  }
 ],
 "metadata": {
  "kernelspec": {
   "display_name": "Python 3",
   "language": "python",
   "name": "python3"
  },
  "language_info": {
   "codemirror_mode": {
    "name": "ipython",
    "version": 3
   },
   "file_extension": ".py",
   "mimetype": "text/x-python",
   "name": "python",
   "nbconvert_exporter": "python",
   "pygments_lexer": "ipython3",
   "version": "3.7.9"
  }
 },
 "nbformat": 4,
 "nbformat_minor": 4
}
